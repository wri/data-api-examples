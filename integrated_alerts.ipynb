{
 "cells": [
  {
   "cell_type": "code",
   "execution_count": 1,
   "id": "1ef2f3a0-a256-435e-a0c7-128e8960bf3d",
   "metadata": {},
   "outputs": [],
   "source": [
    "import rasterio\n",
    "import numpy as np\n",
    "from rasterio.plot import show\n",
    "from rasterio.crs import CRS\n",
    "from rasterio import Affine\n",
    "from datetime import date"
   ]
  },
  {
   "cell_type": "markdown",
   "id": "f0cbbdaf-c5a9-4962-87e4-22e7fdf50582",
   "metadata": {},
   "source": [
    "### Create some integrated alert test data"
   ]
  },
  {
   "cell_type": "code",
   "execution_count": 2,
   "id": "1991dba2-d8a3-4bd6-9d3b-0eea5d7aba7a",
   "metadata": {},
   "outputs": [],
   "source": [
    "glad_lan = np.zeros((10, 10), dtype=np.uint16)\n",
    "glad_s2 = np.zeros((10, 10), dtype=np.uint16)\n",
    "radd = np.zeros((10, 10), dtype=np.uint16)\n",
    "\n",
    "origin_date = date(2014, 12, 31)\n",
    "\n",
    "date_glad_lan = date(2019, 2, 23)\n",
    "date_glad_s2 = date(2021, 7, 20)\n",
    "date_radd = date(2020, 3, 3)\n",
    "\n",
    "glad_lan_days = (date_glad_lan - origin_date).days\n",
    "glad_s2_days = (date_glad_s2 - origin_date).days\n",
    "radd_days = (date_radd - origin_date).days\n",
    "\n",
    "glad_lan[1, 1] = 2 * glad_lan_days + 1\n",
    "glad_lan[2, 2] = 2 * glad_lan_days \n",
    "\n",
    "glad_lan[3, 3] = 2 * glad_lan_days + 1\n",
    "glad_s2[3, 3] = 2 * glad_s2_days\n",
    "\n",
    "glad_s2[5, 5] = 2 * glad_s2_days\n",
    "radd[5, 5] = 2 * glad_s2_days"
   ]
  },
  {
   "cell_type": "code",
   "execution_count": 3,
   "id": "32d27c01-d3ea-449a-9e3f-7efc0613a9cc",
   "metadata": {},
   "outputs": [
    {
     "data": {
      "image/png": "[encoded data removed]",
      "text/plain": [
       "<Figure size 432x288 with 1 Axes>"
      ]
     },
     "metadata": {
      "needs_background": "light"
     },
     "output_type": "display_data"
    },
    {
     "data": {
      "text/plain": [
       "<AxesSubplot:>"
      ]
     },
     "execution_count": 3,
     "metadata": {},
     "output_type": "execute_result"
    }
   ],
   "source": [
    "show(glad_lan)"
   ]
  },
  {
   "cell_type": "markdown",
   "id": "5b9a5d9e-9b85-4a5d-932b-fa75cfd1e1f7",
   "metadata": {},
   "source": [
    "### Calc function to generate alert confidence following the rule:\n",
    "*The integrated confidence level, which is: nominal if only one alert system detected the pixel with low confidence; high if one alert system detected the pixel with high confidence; highest if multiple alert systems detected the pixel.*\n"
   ]
  },
  {
   "cell_type": "code",
   "execution_count": 4,
   "id": "f7558a01-7a22-4381-8e72-ca70efedf8e8",
   "metadata": {},
   "outputs": [
    {
     "ename": "NameError",
     "evalue": "name 'ma' is not defined",
     "output_type": "error",
     "traceback": [
      "\u001b[0;31m---------------------------------------------------------------------------\u001b[0m",
      "\u001b[0;31mNameError\u001b[0m                                 Traceback (most recent call last)",
      "\u001b[0;32m/var/folders/ql/0yjxzysn77j52l08zfbd7zrcyc3t7q/T/ipykernel_6777/1583437364.py\u001b[0m in \u001b[0;36m<module>\u001b[0;34m\u001b[0m\n\u001b[0;32m----> 1\u001b[0;31m \u001b[0mlow\u001b[0m \u001b[0;34m=\u001b[0m \u001b[0;34m(\u001b[0m\u001b[0mnp\u001b[0m\u001b[0;34m.\u001b[0m\u001b[0mma\u001b[0m\u001b[0;34m.\u001b[0m\u001b[0msum\u001b[0m\u001b[0;34m(\u001b[0m\u001b[0;34m[\u001b[0m\u001b[0mma\u001b[0m\u001b[0;34m.\u001b[0m\u001b[0mmasked_equal\u001b[0m\u001b[0;34m(\u001b[0m\u001b[0mglad_lan\u001b[0m\u001b[0;34m,\u001b[0m \u001b[0;36m0\u001b[0m\u001b[0;34m)\u001b[0m \u001b[0;34m&\u001b[0m \u001b[0;36m1\u001b[0m\u001b[0;34m,\u001b[0m \u001b[0mma\u001b[0m\u001b[0;34m.\u001b[0m\u001b[0mmasked_equal\u001b[0m\u001b[0;34m(\u001b[0m\u001b[0mglad_s2\u001b[0m\u001b[0;34m,\u001b[0m \u001b[0;36m0\u001b[0m\u001b[0;34m)\u001b[0m \u001b[0;34m&\u001b[0m \u001b[0;36m1\u001b[0m\u001b[0;34m,\u001b[0m \u001b[0mma\u001b[0m\u001b[0;34m.\u001b[0m\u001b[0mmasked_equal\u001b[0m\u001b[0;34m(\u001b[0m\u001b[0mradd\u001b[0m\u001b[0;34m,\u001b[0m \u001b[0;36m0\u001b[0m\u001b[0;34m)\u001b[0m \u001b[0;34m&\u001b[0m \u001b[0;36m1\u001b[0m\u001b[0;34m]\u001b[0m\u001b[0;34m,\u001b[0m \u001b[0maxis\u001b[0m\u001b[0;34m=\u001b[0m\u001b[0;36m0\u001b[0m\u001b[0;34m)\u001b[0m \u001b[0;34m==\u001b[0m \u001b[0;36m1\u001b[0m\u001b[0;34m)\u001b[0m \u001b[0;34m*\u001b[0m \u001b[0;36m1\u001b[0m\u001b[0;34m\u001b[0m\u001b[0;34m\u001b[0m\u001b[0m\n\u001b[0m\u001b[1;32m      2\u001b[0m \u001b[0;34m\u001b[0m\u001b[0m\n\u001b[1;32m      3\u001b[0m \u001b[0mhigh\u001b[0m \u001b[0;34m=\u001b[0m \u001b[0;34m(\u001b[0m\u001b[0mnp\u001b[0m\u001b[0;34m.\u001b[0m\u001b[0mma\u001b[0m\u001b[0;34m.\u001b[0m\u001b[0msum\u001b[0m\u001b[0;34m(\u001b[0m\u001b[0;34m[\u001b[0m\u001b[0mma\u001b[0m\u001b[0;34m.\u001b[0m\u001b[0mmasked_equal\u001b[0m\u001b[0;34m(\u001b[0m\u001b[0mglad_lan\u001b[0m\u001b[0;34m,\u001b[0m \u001b[0;36m0\u001b[0m\u001b[0;34m)\u001b[0m \u001b[0;34m&\u001b[0m \u001b[0;36m1\u001b[0m\u001b[0;34m,\u001b[0m \u001b[0mma\u001b[0m\u001b[0;34m.\u001b[0m\u001b[0mmasked_equal\u001b[0m\u001b[0;34m(\u001b[0m\u001b[0mglad_s2\u001b[0m\u001b[0;34m,\u001b[0m \u001b[0;36m0\u001b[0m\u001b[0;34m)\u001b[0m \u001b[0;34m&\u001b[0m \u001b[0;36m1\u001b[0m\u001b[0;34m,\u001b[0m \u001b[0mma\u001b[0m\u001b[0;34m.\u001b[0m\u001b[0mmasked_equal\u001b[0m\u001b[0;34m(\u001b[0m\u001b[0mradd\u001b[0m\u001b[0;34m,\u001b[0m \u001b[0;36m0\u001b[0m\u001b[0;34m)\u001b[0m \u001b[0;34m&\u001b[0m \u001b[0;36m1\u001b[0m\u001b[0;34m]\u001b[0m\u001b[0;34m,\u001b[0m \u001b[0maxis\u001b[0m\u001b[0;34m=\u001b[0m\u001b[0;36m0\u001b[0m\u001b[0;34m)\u001b[0m \u001b[0;34m==\u001b[0m \u001b[0;36m0\u001b[0m\u001b[0;34m)\u001b[0m \u001b[0;34m*\u001b[0m \u001b[0;36m2\u001b[0m\u001b[0;34m\u001b[0m\u001b[0;34m\u001b[0m\u001b[0m\n\u001b[1;32m      4\u001b[0m \u001b[0;34m\u001b[0m\u001b[0m\n\u001b[1;32m      5\u001b[0m \u001b[0;34m\u001b[0m\u001b[0m\n",
      "\u001b[0;31mNameError\u001b[0m: name 'ma' is not defined"
     ]
    }
   ],
   "source": [
    "low = (np.ma.sum([np.ma.masked_equal(glad_lan, 0) & 1, np.ma.masked_equal(glad_s2, 0) & 1, np.ma.masked_equal(radd, 0) & 1], axis=0) == 1) * 1\n",
    "\n",
    "high = (np.ma.sum([np.ma.masked_equal(glad_lan, 0) & 1, np.ma.masked_equal(glad_s2, 0) & 1, np.ma.masked_equal(radd, 0) & 1], axis=0) == 0) * 2\n",
    "\n",
    "\n",
    "highest = ((np.ma.sum([(\n",
    "        np.ma.masked_equal(glad_lan, 0) > 0) * 1,\n",
    "        (np.ma.masked_equal(glad_s2, 0) > 0) * 1 ,\n",
    "        (np.ma.masked_equal(radd, 0) > 0) * 1],\n",
    "    axis=0) >= 2) * 3).filled(0)\n",
    "\n",
    "\n",
    "highest_and_high = np.ma.sum([\n",
    "    ((np.ma.sum([\n",
    "        (np.ma.masked_equal(glad_lan, 0) > 0) * 1,\n",
    "        (np.ma.masked_equal(glad_s2, 0) > 0) * 1 ,\n",
    "        (np.ma.masked_equal(radd, 0) > 0) * 1],\n",
    "        axis=0) >= 2) *1),\n",
    "    ((np.ma.sum([\n",
    "        np.ma.masked_equal(glad_lan, 0) & 1,\n",
    "        np.ma.masked_equal(glad_s2, 0) & 1,\n",
    "        np.ma.masked_equal(radd, 0) & 1\n",
    "    ], axis=0) == 0) * 2)], axis=0)\n",
    "    \n",
    "\n",
    "all_conf = np.clip(np.ma.sum([\n",
    "    (np.ma.sum([\n",
    "        (np.ma.masked_equal(glad_lan, 0) > 0) * 1,\n",
    "        (np.ma.masked_equal(glad_s2, 0) > 0) * 1 ,\n",
    "        (np.ma.masked_equal(radd, 0) > 0) * 1],\n",
    "        axis=0) >= 2) * 2,\n",
    "    (np.ma.sum([\n",
    "        np.ma.masked_equal(glad_lan, 0) & 1,\n",
    "        np.ma.masked_equal(glad_s2, 0) & 1,\n",
    "        np.ma.masked_equal(radd, 0) & 1\n",
    "    ], axis=0) == 0) * 2,\n",
    "    (np.ma.sum([\n",
    "        np.ma.masked_equal(glad_lan, 0) & 1,\n",
    "        np.ma.masked_equal(glad_s2, 0) & 1,\n",
    "        np.ma.masked_equal(radd, 0) & 1\n",
    "        ],axis=0) == 1) * 1          \n",
    "    ], axis=0), None, 3).filled(0)\n",
    "\n",
    "all_conf"
   ]
  },
  {
   "cell_type": "markdown",
   "id": "85577e70-c178-4d80-9166-3a43ac486308",
   "metadata": {},
   "source": [
    "### Save result to file "
   ]
  },
  {
   "cell_type": "code",
   "execution_count": null,
   "id": "4bd046d5-7ed4-40b6-86d2-73c69ac8dde5",
   "metadata": {},
   "outputs": [],
   "source": [
    "meta = {\n",
    "    'driver': 'GTiff',\n",
    "     'dtype': 'uint16',\n",
    "     'nodata': 0.0,\n",
    "     'width': 10,\n",
    "     'height': 10,\n",
    "     'count': 1,\n",
    "     'crs': CRS.from_epsg(4326),\n",
    "     'transform': Affine(0.0001, 0.0, 40.0,\n",
    "            0.0, -0.0001, -20.0)}\n",
    "\n",
    "with rasterio.open('integrated_confidence.tif', 'w', **meta) as int_file:\n",
    "    int_file.write(all_conf, 1)"
   ]
  },
  {
   "cell_type": "markdown",
   "id": "e11a3a41-3270-4383-84b4-5df6e26614e4",
   "metadata": {},
   "source": [
    "### Verify data saved correctly"
   ]
  },
  {
   "cell_type": "code",
   "execution_count": null,
   "id": "402766b1-2890-4186-a346-506900c79804",
   "metadata": {},
   "outputs": [],
   "source": [
    "with rasterio.open('integrated_confidence.tif') as int_file:\n",
    "    conf_data = int_file.read(1)"
   ]
  },
  {
   "cell_type": "markdown",
   "id": "1837db9f-4c40-44c4-a263-fa9f71b804ae",
   "metadata": {},
   "source": [
    "### Calc function to get the earliest alert "
   ]
  },
  {
   "cell_type": "code",
   "execution_count": null,
   "id": "36859875-2dd4-415f-b2d2-e5eb1fb9e4f9",
   "metadata": {},
   "outputs": [],
   "source": [
    "earliest_alert_date = np.ma.min([\n",
    "        np.ma.masked_equal(glad_lan, 0) >> 1,\n",
    "        np.ma.masked_equal(glad_s2, 0) >> 1,\n",
    "        np.ma.masked_equal(radd, 0) >> 1],\n",
    "    axis=0).filled(0)\n",
    "\n",
    "earliest_alert_date"
   ]
  },
  {
   "cell_type": "markdown",
   "id": "80621117-ee8e-4861-b915-bcb5570a3ff2",
   "metadata": {},
   "source": [
    "### Save alert date to file"
   ]
  },
  {
   "cell_type": "code",
   "execution_count": null,
   "id": "5aa0a580-8632-45dc-a827-860b315c9c93",
   "metadata": {},
   "outputs": [],
   "source": [
    "with rasterio.open('earliest_alert.tif', 'w', **meta) as alert_file:\n",
    "    alert_file.write(earliest_alert_date, 1)"
   ]
  },
  {
   "cell_type": "code",
   "execution_count": null,
   "id": "8a4382f6-aa4a-4f63-86ec-38f30d62831e",
   "metadata": {},
   "outputs": [],
   "source": []
  }
 ],
 "metadata": {
  "kernelspec": {
   "display_name": "Python 3 (ipykernel)",
   "language": "python",
   "name": "python3"
  },
  "language_info": {
   "codemirror_mode": {
    "name": "ipython",
    "version": 3
   },
   "file_extension": ".py",
   "mimetype": "text/x-python",
   "name": "python",
   "nbconvert_exporter": "python",
   "pygments_lexer": "ipython3",
   "version": "3.8.10"
  }
 },
 "nbformat": 4,
 "nbformat_minor": 5
}
