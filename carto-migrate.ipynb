{
 "cells": [
  {
   "cell_type": "code",
   "execution_count": null,
   "metadata": {},
   "outputs": [],
   "source": [
    "#Curl command to download dataset from Carto as gpkg file\n",
    "username = \"wri-rw\"\n",
    "tablename = \"wat_006_projected_water_stress\"\n",
    "filetype = \"gpkg\"\n",
    "\n",
    "print(f\"curl \\\"https://{username}.carto.com/api/v2/sql?q=SELECT%20*%20FROM%20{tablename}&format={filetype}&filename={tablename}.{filetype}\\\" -o {tablename}.{filetype}\")"
   ]
  }
 ],
 "metadata": {
  "kernelspec": {
   "display_name": "rw",
   "language": "python",
   "name": "python3"
  },
  "language_info": {
   "codemirror_mode": {
    "name": "ipython",
    "version": 3
   },
   "file_extension": ".py",
   "mimetype": "text/x-python",
   "name": "python",
   "nbconvert_exporter": "python",
   "pygments_lexer": "ipython3",
   "version": "3.9.15"
  }
 },
 "nbformat": 4,
 "nbformat_minor": 2
}
