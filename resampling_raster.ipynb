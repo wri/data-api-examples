{
 "cells": [
  {
   "cell_type": "code",
   "execution_count": 24,
   "id": "1ef2f3a0-a256-435e-a0c7-128e8960bf3d",
   "metadata": {},
   "outputs": [],
   "source": [
    "import rasterio\n",
    "import numpy as np\n",
    "from rasterio.plot import show\n",
    "from rasterio.crs import CRS\n",
    "from rasterio import Affine\n",
    "from datetime import date\n",
    "from rasterio.warp import reproject\n",
    "from rasterio.enums import Resampling\n",
    "from affine import Affine as newAffine\n",
    "from rasterio.vrt import WarpedVRT"
   ]
  },
  {
   "cell_type": "markdown",
   "id": "f0cbbdaf-c5a9-4962-87e4-22e7fdf50582",
   "metadata": {},
   "source": [
    "### Create some integrated alert test data"
   ]
  },
  {
   "cell_type": "code",
   "execution_count": null,
   "id": "f7558a01-7a22-4381-8e72-ca70efedf8e8",
   "metadata": {},
   "outputs": [],
   "source": [
    "low = (np.ma.sum([np.ma.masked_equal(glad_lan, 0) & 1, np.ma.masked_equal(glad_s2, 0) & 1, np.ma.masked_equal(radd, 0) & 1], axis=0) == 1) * 1\n",
    "\n",
    "high = (np.ma.sum([np.ma.masked_equal(glad_lan, 0) & 1, np.ma.masked_equal(glad_s2, 0) & 1, np.ma.masked_equal(radd, 0) & 1], axis=0) == 0) * 2\n",
    "\n",
    "\n",
    "highest = ((np.ma.sum([(\n",
    "        np.ma.masked_equal(glad_lan, 0) > 0) * 1,\n",
    "        (np.ma.masked_equal(glad_s2, 0) > 0) * 1 ,\n",
    "        (np.ma.masked_equal(radd, 0) > 0) * 1],\n",
    "    axis=0) >= 2) * 3).filled(0)\n",
    "\n",
    "\n",
    "highest_and_high = np.ma.sum([\n",
    "    (np.ma.sum([\n",
    "        (np.ma.masked_equal(glad_lan, 0) > 0) * 1,\n",
    "        (np.ma.masked_equal(glad_s2, 0) > 0) * 1 ,\n",
    "        (np.ma.masked_equal(radd, 0) > 0) * 1],\n",
    "        axis=0) >= 2) *1,\n",
    "    ((np.ma.sum([\n",
    "        np.ma.masked_equal(glad_lan, 0) & 1,\n",
    "        np.ma.masked_equal(glad_s2, 0) & 1,\n",
    "        np.ma.masked_equal(radd, 0) & 1\n",
    "    ], axis=0) == 0) * 2)], axis=0)\n",
    "    \n",
    "\n",
    "all_conf = np.ma.sum([\n",
    "    np.clip(np.ma.sum([\n",
    "        (np.ma.sum([\n",
    "            (np.ma.masked_equal(glad_lan, 0) > 0) * 1,\n",
    "            (np.ma.masked_equal(glad_s2, 0) > 0) * 1 ,\n",
    "            (np.ma.masked_equal(radd, 0) > 0) * 1],\n",
    "            axis=0) >= 2) * 2,\n",
    "        (np.ma.sum([\n",
    "            np.ma.masked_equal(glad_lan, 0) & 1,\n",
    "            np.ma.masked_equal(glad_s2, 0) & 1,\n",
    "            np.ma.masked_equal(radd, 0) & 1\n",
    "        ], axis=0) == 0) * 2,\n",
    "        (np.ma.sum([\n",
    "            np.ma.masked_equal(glad_lan, 0) & 1,\n",
    "            np.ma.masked_equal(glad_s2, 0) & 1,\n",
    "            np.ma.masked_equal(radd, 0) & 1],\n",
    "            axis=0) == 1) * 1          \n",
    "        ], axis=0), None, 3).filled(0) * 10000, \n",
    "    np.ma.min([\n",
    "            np.ma.masked_equal(glad_lan, 0) >> 1,\n",
    "            np.ma.masked_equal(glad_s2, 0) >> 1,\n",
    "            np.ma.masked_equal(radd, 0) >> 1],\n",
    "        axis=0)\n",
    "], axis=0).filled(0)\n",
    "        \n",
    "\n",
    "\n",
    "all_conf"
   ]
  },
  {
   "cell_type": "markdown",
   "id": "85577e70-c178-4d80-9166-3a43ac486308",
   "metadata": {},
   "source": [
    "### Save result to file "
   ]
  },
  {
   "cell_type": "code",
   "execution_count": null,
   "id": "4bd046d5-7ed4-40b6-86d2-73c69ac8dde5",
   "metadata": {},
   "outputs": [],
   "source": [
    "meta = {\n",
    "    'driver': 'GTiff',\n",
    "     'dtype': 'uint16',\n",
    "     'nodata': 0.0,\n",
    "     'width': 10,\n",
    "     'height': 10,\n",
    "     'count': 1,\n",
    "     'crs': CRS.from_epsg(4326),\n",
    "     'transform': Affine(0.0001, 0.0, 40.0,\n",
    "            0.0, -0.0001, -20.0)}\n",
    "\n",
    "with rasterio.open('integrated_confidence.tif', 'w', **meta) as int_file:\n",
    "    int_file.write(all_conf, 1)"
   ]
  },
  {
   "cell_type": "markdown",
   "id": "e11a3a41-3270-4383-84b4-5df6e26614e4",
   "metadata": {},
   "source": [
    "### Verify data saved correctly"
   ]
  },
  {
   "cell_type": "code",
   "execution_count": null,
   "id": "402766b1-2890-4186-a346-506900c79804",
   "metadata": {},
   "outputs": [],
   "source": [
    "with rasterio.open('integrated_confidence.tif') as int_file:\n",
    "    conf_data = int_file.read(1)"
   ]
  },
  {
   "cell_type": "markdown",
   "id": "1837db9f-4c40-44c4-a263-fa9f71b804ae",
   "metadata": {},
   "source": [
    "### Calc function to get the earliest alert "
   ]
  },
  {
   "cell_type": "code",
   "execution_count": null,
   "id": "36859875-2dd4-415f-b2d2-e5eb1fb9e4f9",
   "metadata": {},
   "outputs": [],
   "source": [
    "earliest_alert_date = np.ma.min([\n",
    "        np.ma.masked_equal(glad_lan, 0) >> 1,\n",
    "        np.ma.masked_equal(glad_s2, 0) >> 1,\n",
    "        np.ma.masked_equal(radd, 0) >> 1],\n",
    "    axis=0).filled(0)\n",
    "\n",
    "earliest_alert_date"
   ]
  },
  {
   "cell_type": "markdown",
   "id": "80621117-ee8e-4861-b915-bcb5570a3ff2",
   "metadata": {},
   "source": [
    "### Save alert date to file"
   ]
  },
  {
   "cell_type": "code",
   "execution_count": null,
   "id": "5aa0a580-8632-45dc-a827-860b315c9c93",
   "metadata": {},
   "outputs": [],
   "source": [
    "with rasterio.open('earliest_alert.tif', 'w', **meta) as alert_file:\n",
    "    alert_file.write(earliest_alert_date, 1)"
   ]
  },
  {
   "cell_type": "code",
   "execution_count": 5,
   "id": "8a4382f6-aa4a-4f63-86ec-38f30d62831e",
   "metadata": {},
   "outputs": [],
   "source": [
    "res_file_16 = rasterio.open('/Users/solomon.negusse/wri/resampled_2048th_min.tif')\n",
    "glad_16 = res_file_16.read(1, masked=True)\n",
    "    \n",
    "with rasterio.open('/Users/solomon.negusse/wri/resampled_4096th_min.tif') as res_file_8:\n",
    "    glad_8 = res_file_8.read(1, masked=True)"
   ]
  },
  {
   "cell_type": "code",
   "execution_count": null,
   "id": "6f78acde-87f2-4a16-9d59-6b5988856651",
   "metadata": {},
   "outputs": [],
   "source": []
  },
  {
   "cell_type": "code",
   "execution_count": null,
   "id": "1d4e5e84-ae01-4d6f-8848-fa886aa37c63",
   "metadata": {},
   "outputs": [],
   "source": [
    "print(glad_8)"
   ]
  },
  {
   "cell_type": "code",
   "execution_count": 12,
   "id": "993d57a9-0a53-47e3-b1e5-7904d62c5434",
   "metadata": {},
   "outputs": [
    {
     "name": "stdout",
     "output_type": "stream",
     "text": [
      "{'driver': 'GTiff', 'dtype': 'uint16', 'nodata': 0.0, 'width': 16, 'height': 16, 'count': 3, 'crs': CRS.from_epsg(3857), 'transform': Affine(39135.75848225398, 0.0, -2504688.542848654,\n",
      "       0.0, -39135.75848225398, 3757032.814319771), 'blockxsize': 16, 'blockysize': 16, 'tiled': True, 'interleave': 'pixel'}\n",
      "{'driver': 'GTiff', 'dtype': 'uint16', 'nodata': 0.0, 'width': 16, 'height': 16, 'count': 3, 'crs': CRS.from_epsg(3857), 'transform': Affine(39135.75848225398, 0.0, -2504688.542848654,\n",
      "       0.0, -39135.75848225398, 3757032.814319771)}\n"
     ]
    }
   ],
   "source": [
    "print(res_file_16.profile)\n",
    "print(res_file_16.meta)"
   ]
  },
  {
   "cell_type": "code",
   "execution_count": null,
   "id": "5adbfed2-7737-4b21-9b2a-bf066c4fa0b0",
   "metadata": {},
   "outputs": [],
   "source": []
  },
  {
   "cell_type": "code",
   "execution_count": 22,
   "id": "5512ab06-dcc5-40a0-9e59-e3dd6f13a442",
   "metadata": {},
   "outputs": [
    {
     "data": {
      "text/plain": [
       "(array([[   0.,    0.,    0.,    0.,    0.,    0.,    0.,    0.],\n",
       "        [   0.,    0.,    0.,    0.,    0.,    0.,    0.,    0.],\n",
       "        [   0.,    0.,    0.,    0.,    0.,    0.,    0.,    0.],\n",
       "        [   0.,    0.,    0.,    0.,    0.,    0.,    0.,    0.],\n",
       "        [   0.,    0.,    0.,    0.,    0.,    0.,    0.,    0.],\n",
       "        [   0.,    0.,    0.,    0.,    0.,    0., 2202.,    0.],\n",
       "        [   0.,    0.,    0.,    0.,    0.,    0., 2330., 2202.],\n",
       "        [   0.,    0.,    0.,    0.,    0.,    0.,    0.,    0.]]),\n",
       " Affine(78271.51696450796, 0.0, -2504688.542848654,\n",
       "        0.0, -78271.51696450796, 3757032.814319771))"
      ]
     },
     "execution_count": 22,
     "metadata": {},
     "output_type": "execute_result"
    }
   ],
   "source": [
    "# with rasterio.open('resample_rasterio.tif', 'w', **res_file_16.profile, height) as dst:\n",
    "# for i, band in enumerate(glad_16, 1):\n",
    "dest = np.zeros((8, 8))\n",
    "dest_transform = res_file_16.transform * newAffine.scale(0.5)\n",
    "reproject(\n",
    "    glad_16,\n",
    "    dest,\n",
    "    src_transform=res_file_16.transform,\n",
    "    src_crs=res_file_16.crs,\n",
    "#     dst_transform=dest_transform,\n",
    "    dst_crs=res_file_16.crs,\n",
    "    resampling=Resampling.min, src_nodata=0)\n",
    "\n",
    "#         dst.write(dest, indexes=i)"
   ]
  },
  {
   "cell_type": "code",
   "execution_count": 36,
   "id": "6f389ffb-47e0-4f33-b806-cfa8495b707f",
   "metadata": {},
   "outputs": [],
   "source": [
    "with rasterio.open(\"/Users/solomon.negusse/wri/resampled_2048th_min.vrt\", \"r\") as src:\n",
    "    with WarpedVRT(src, resampling=Resampling.nearest, **src.profile) as vrt:\n",
    "        glad_vrt_16 = vrt.read(1, out_shape=(8,8), masked=True)\n",
    "\n",
    "    \n",
    "    \n"
   ]
  },
  {
   "cell_type": "code",
   "execution_count": 37,
   "id": "29561e0c-3910-497d-b678-7cbd9c737cba",
   "metadata": {},
   "outputs": [
    {
     "name": "stdout",
     "output_type": "stream",
     "text": [
      "[[-- -- -- -- -- -- -- --]\n",
      " [-- -- -- -- -- -- -- --]\n",
      " [-- -- -- -- -- -- -- --]\n",
      " [-- -- -- -- -- -- -- --]\n",
      " [-- -- -- -- -- -- -- --]\n",
      " [-- -- -- -- -- -- 2202 --]\n",
      " [-- -- -- -- -- -- 3258 --]\n",
      " [-- -- -- -- -- -- -- --]]\n"
     ]
    }
   ],
   "source": [
    "print(glad_vrt_16)"
   ]
  },
  {
   "cell_type": "code",
   "execution_count": 47,
   "id": "d3f94232-b792-4061-8b8e-8e83f7848196",
   "metadata": {},
   "outputs": [],
   "source": [
    "with rasterio.open(\"/Users/solomon.negusse/wri/resampled_2048th_min.vrt\", \"r\") as src:\n",
    "    with WarpedVRT(src, resampling=Resampling.min, **src.profile) as vrt:\n",
    "        glad_vrt_16_min = vrt.read(1, out_shape=(8,8))\n",
    "        \n",
    "    dst_profile = src.profile\n",
    "    dst_profile['driver'] = 'GTiff'\n",
    "    dst_profile['count'] = 3\n",
    "    dst_profile[\"compress\"] = \"lzw\"\n",
    "    dst_profile[\"height\"] = 8\n",
    "    dst_profile[\"width\"] = 8\n",
    "    with rasterio.open(\"resampled_vrt.tif\", \"w\", **dst_profile) as dest:\n",
    "        dest.write(glad_vrt_16_min, indexes=1)"
   ]
  },
  {
   "cell_type": "code",
   "execution_count": 50,
   "id": "f4c95207-4909-4517-872b-ed722ca6363e",
   "metadata": {},
   "outputs": [],
   "source": [
    "with rasterio.open(\"/Users/solomon.negusse/wri/resampled_2048th_min.vrt\", \"r\") as src:\n",
    "    src.profile.pop(\"transform\")\n",
    "    with WarpedVRT(src, resampling=Resampling.min, **src.profile) as vrt:\n",
    "        glad_vrt_16_min = vrt.read(1, out_shape=(8,8))"
   ]
  },
  {
   "cell_type": "code",
   "execution_count": 51,
   "id": "3e41b0e6-f560-47c0-a1d2-d78c1473faed",
   "metadata": {},
   "outputs": [
    {
     "data": {
      "text/plain": [
       "array([[   0,    0,    0,    0,    0,    0,    0,    0],\n",
       "       [   0,    0,    0,    0,    0,    0,    0,    0],\n",
       "       [   0,    0,    0,    0,    0,    0,    0,    0],\n",
       "       [   0,    0,    0,    0,    0,    0,    0,    0],\n",
       "       [   0,    0,    0,    0,    0,    0,    0,    0],\n",
       "       [   0,    0,    0,    0,    0,    0, 2202,    0],\n",
       "       [   0,    0,    0,    0,    0,    0, 3258,    0],\n",
       "       [   0,    0,    0,    0,    0,    0,    0,    0]], dtype=uint16)"
      ]
     },
     "execution_count": 51,
     "metadata": {},
     "output_type": "execute_result"
    }
   ],
   "source": []
  }
 ],
 "metadata": {
  "kernelspec": {
   "display_name": "Python 3 (ipykernel)",
   "language": "python",
   "name": "python3"
  },
  "language_info": {
   "codemirror_mode": {
    "name": "ipython",
    "version": 3
   },
   "file_extension": ".py",
   "mimetype": "text/x-python",
   "name": "python",
   "nbconvert_exporter": "python",
   "pygments_lexer": "ipython3",
   "version": "3.9.4"
  }
 },
 "nbformat": 4,
 "nbformat_minor": 5
}
