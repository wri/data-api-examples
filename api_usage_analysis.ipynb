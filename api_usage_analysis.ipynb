{
 "cells": [
  {
   "cell_type": "markdown",
   "id": "7b4ab0e2-36a4-47b0-b2be-965dfd302b47",
   "metadata": {},
   "source": [
    "This notebook gets the number of requests to GFW Data API datasets from access logs in Cloudwatch\n",
    "\n",
    "Currently, we have 1 month retention for the logs so that's what it'll pull by default but can look at subset using `start_date` and `end_date`.\n",
    "\n",
    "Need to point `AWS_PROFILE` env variable to your production creds to access the Cloudwatch logs.\n",
    "\n",
    "Need to specify `results_dir` and `file_name` to save file if `save=True`"
   ]
  },
  {
   "cell_type": "code",
   "execution_count": 1,
   "id": "91811222-8c65-44cd-92b0-1319692d1b24",
   "metadata": {},
   "outputs": [],
   "source": [
    "from datetime import datetime\n",
    "import os\n",
    "\n",
    "from dateutil.relativedelta import relativedelta\n",
    "from time import sleep\n",
    "\n",
    "import boto3\n",
    "import requests\n",
    "import pandas as pd"
   ]
  },
  {
   "cell_type": "markdown",
   "id": "2c172b29-0991-4587-9162-f43fb4e27090",
   "metadata": {},
   "source": []
  },
  {
   "cell_type": "code",
   "execution_count": 8,
   "id": "f9bbe6bd-c02e-4286-96e3-0052e5e1ede4",
   "metadata": {},
   "outputs": [],
   "source": [
    "start_date = datetime.now() - relativedelta(days=30)\n",
    "end_date = datetime.now()\n",
    "start_date_seconds = (start_date - datetime(1970, 1, 1)).total_seconds() # cloudwatch query start\n",
    "end_date_seconds = (end_date - datetime(1970, 1, 1)).total_seconds() # cloudwatch query end\n",
    "log_group = '/aws/ecs/gfw-data-api-log'\n",
    "\n",
    "save=True\n",
    "results_dir = '/Users/solomon.negusse/wri/'\n",
    "file_name = 'temp.csv'\n",
    "\n",
    "datasets_url = 'https://data-api.globalforestwatch.org/datasets'"
   ]
  },
  {
   "cell_type": "code",
   "execution_count": 4,
   "id": "53ea3249-feeb-4874-ad0e-1f8cdd98635d",
   "metadata": {},
   "outputs": [],
   "source": [
    "datasets = requests.get(datasets_url).json()['data']\n"
   ]
  },
  {
   "cell_type": "code",
   "execution_count": 5,
   "id": "d836d6ef-efcf-425c-b619-2193b6912663",
   "metadata": {},
   "outputs": [],
   "source": [
    "datasets_df = pd.DataFrame(datasets)\n",
    "datasets_df.set_index('dataset', inplace=True)"
   ]
  },
  {
   "cell_type": "code",
   "execution_count": 6,
   "id": "d0a20e1b-792f-4013-93cb-19ec365b2ee8",
   "metadata": {},
   "outputs": [],
   "source": [
    "cloudwatch = boto3.client('logs', region_name='us-east-1')"
   ]
  },
  {
   "cell_type": "code",
   "execution_count": 9,
   "id": "d7b01973-12db-4781-ac92-776f086a1a79",
   "metadata": {},
   "outputs": [],
   "source": [
    "# regex length can't be longer than 10k characters\n",
    "chunk_size = 100\n",
    "start = 0\n",
    "\n",
    "results = []\n",
    "\n",
    "while start < datasets_df.index.size:\n",
    "    dataset_ids =  '|'.join(datasets_df.iloc[start:start + chunk_size].index)\n",
    "    query_string = f'fields @timestamp, @message | filter @message like /GET \\/dataset\\/(?<datasetId>{dataset_ids})\\/(?!.*latest).*200$/ | parse @message /GET \\/dataset\\/(?<datasetId>{dataset_ids})/ | stats count() as datasetViewCount by datasetId | sort datasetViewCount desc'\n",
    "    query = cloudwatch.start_query(logGroupName=log_group, queryString=query_string, startTime=int(start_date_seconds), endTime=int(end_date_seconds))\n",
    "    sleep(5)\n",
    "    query_response = cloudwatch.get_query_results(queryId=query[\"queryId\"])\n",
    "    while (query_response['status'] == 'Running' or query_response['status'] == 'Scheduled'):\n",
    "        query_response = cloudwatch.get_query_results(queryId=query[\"queryId\"])\n",
    "        sleep(5)\n",
    "\n",
    "    results += query_response['results']\n",
    "    start = start + chunk_size\n",
    " "
   ]
  },
  {
   "cell_type": "code",
   "execution_count": 11,
   "id": "cc9a9445-08b7-4152-9055-93a4ce60f5aa",
   "metadata": {},
   "outputs": [],
   "source": [
    "no_requests_df = pd.DataFrame([{'dataset': rec[0]['value'], 'no_of_requests': rec[1]['value']} for rec in results])\n",
    "no_requests_df.set_index('dataset', inplace=True)\n",
    "\n",
    "no_requests_df = no_requests_df.astype(int).sort_values(by='no_of_requests', ascending=False)\n",
    "\n",
    "if save:\n",
    "    no_requests_df.to_csv(os.path.join(results_dir, file_name), index_label='dataset')"
   ]
  },
  {
   "cell_type": "code",
   "execution_count": 12,
   "id": "f73ca773-314c-4f85-ade1-fdced2b4beca",
   "metadata": {},
   "outputs": [
    {
     "data": {
      "text/html": [
       "<div>\n",
       "<style scoped>\n",
       "    .dataframe tbody tr th:only-of-type {\n",
       "        vertical-align: middle;\n",
       "    }\n",
       "\n",
       "    .dataframe tbody tr th {\n",
       "        vertical-align: top;\n",
       "    }\n",
       "\n",
       "    .dataframe thead th {\n",
       "        text-align: right;\n",
       "    }\n",
       "</style>\n",
       "<table border=\"1\" class=\"dataframe\">\n",
       "  <thead>\n",
       "    <tr style=\"text-align: right;\">\n",
       "      <th></th>\n",
       "      <th>no_of_requests</th>\n",
       "    </tr>\n",
       "    <tr>\n",
       "      <th>dataset</th>\n",
       "      <th></th>\n",
       "    </tr>\n",
       "  </thead>\n",
       "  <tbody>\n",
       "    <tr>\n",
       "      <th>birdlife_alliance_for_zero_extinction_sites</th>\n",
       "      <td>18467</td>\n",
       "    </tr>\n",
       "  </tbody>\n",
       "</table>\n",
       "</div>"
      ],
      "text/plain": [
       "                                             no_of_requests\n",
       "dataset                                                    \n",
       "birdlife_alliance_for_zero_extinction_sites           18467"
      ]
     },
     "execution_count": 12,
     "metadata": {},
     "output_type": "execute_result"
    }
   ],
   "source": [
    "no_requests_df.head(20)"
   ]
  }
 ],
 "metadata": {
  "kernelspec": {
   "display_name": "Python 3 (ipykernel)",
   "language": "python",
   "name": "python3"
  },
  "language_info": {
   "codemirror_mode": {
    "name": "ipython",
    "version": 3
   },
   "file_extension": ".py",
   "mimetype": "text/x-python",
   "name": "python",
   "nbconvert_exporter": "python",
   "pygments_lexer": "ipython3",
   "version": "3.8.10"
  }
 },
 "nbformat": 4,
 "nbformat_minor": 5
}
