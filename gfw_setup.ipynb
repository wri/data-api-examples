{
 "cells": [
  {
   "cell_type": "code",
   "execution_count": 3,
   "metadata": {},
   "outputs": [],
   "source": [
    "# https://data-api.globalforestwatch.org/\n",
    "# https://gfw.atlassian.net/wiki/spaces/GFWAPI/pages/420774264/API+Keys"
   ]
  },
  {
   "cell_type": "code",
   "execution_count": 1,
   "metadata": {},
   "outputs": [],
   "source": [
    "import yaml\n",
    "import requests"
   ]
  },
  {
   "cell_type": "code",
   "execution_count": 2,
   "metadata": {},
   "outputs": [],
   "source": [
    "# path setup\n",
    "secrets_path = \"secrets.yaml\"\n",
    "config_path = \"config.yaml\"\n",
    "\n",
    "with open(secrets_path) as secrets_file:\n",
    "    secrets = yaml.safe_load(secrets_file)\n",
    "with open(config_path) as conf_file:\n",
    "    config = yaml.safe_load(conf_file)\n"
   ]
  },
  {
   "cell_type": "code",
   "execution_count": null,
   "metadata": {},
   "outputs": [],
   "source": [
    "gfw_signup_url = f\"{config['gfw_api']['base_url']}/auth/sign-up\"\n",
    "gfw_signup_payload = {\n",
    "  \"name\": secrets['gfw_api']['name'],\n",
    "  \"email\": secrets['gfw_api']['email']\n",
    "}\n",
    "response = requests.post(gfw_signup_url, json=gfw_signup_payload)\n",
    "response.text"
   ]
  },
  {
   "cell_type": "code",
   "execution_count": 4,
   "metadata": {},
   "outputs": [],
   "source": [
    "gfw_token_url = f\"{config['gfw_api']['base_url']}/auth/token\"\n",
    "gfw_token_payload = {\n",
    "    \"grant_type\": \"password\",\n",
    "  \"username\": secrets['gfw_api']['username'],\n",
    "  \"password\": secrets['gfw_api']['password']\n",
    "}\n",
    "#response = requests.post(gfw_token_url, json=gfw_token_payload, headers={\"Content-Type\": \"application/json\"})\n",
    "response = requests.post(gfw_token_url, data=gfw_token_payload)\n",
    "secrets['gfw_api']['rw_access_token'] = response.json()['data']['access_token']\n",
    "with open(secrets_path, 'w') as fp:\n",
    "    yaml.dump(secrets, fp)"
   ]
  },
  {
   "cell_type": "code",
   "execution_count": 10,
   "metadata": {},
   "outputs": [],
   "source": [
    "gfw_api_url = f\"{config['gfw_api']['base_url']}/auth/apikey\"\n",
    "gfw_api_headers = {\n",
    "  \"Content-Type\": \"application/json\",\n",
    "  \"Authorization\": f\"Bearer {secrets['gfw_api']['rw_access_token']}\"\n",
    "}\n",
    "gfw_api_payload = {\n",
    "    \"alias\": \"r_test\",\n",
    "  \"organization\": \"wri\",\n",
    "  \"email\": secrets['gfw_api']['email']\n",
    "}\n",
    "response = requests.post(gfw_api_url, json=gfw_api_payload, headers=gfw_api_headers)\n",
    "secrets['gfw_api']['key'] = response.json()['data']['api_key']\n",
    "with open(secrets_path, 'w') as fp:\n",
    "    yaml.dump(secrets, fp)\n"
   ]
  },
  {
   "cell_type": "code",
   "execution_count": null,
   "metadata": {},
   "outputs": [],
   "source": []
  }
 ],
 "metadata": {
  "kernelspec": {
   "display_name": "tf-bio",
   "language": "python",
   "name": "python3"
  },
  "language_info": {
   "codemirror_mode": {
    "name": "ipython",
    "version": 3
   },
   "file_extension": ".py",
   "mimetype": "text/x-python",
   "name": "python",
   "nbconvert_exporter": "python",
   "pygments_lexer": "ipython3",
   "version": "3.12.0"
  }
 },
 "nbformat": 4,
 "nbformat_minor": 2
}
